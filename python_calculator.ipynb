{
  "nbformat": 4,
  "nbformat_minor": 0,
  "metadata": {
    "colab": {
      "provenance": []
    },
    "kernelspec": {
      "name": "python3",
      "display_name": "Python 3"
    },
    "language_info": {
      "name": "python"
    }
  },
  "cells": [
    {
      "cell_type": "code",
      "execution_count": 8,
      "metadata": {
        "colab": {
          "base_uri": "https://localhost:8080/"
        },
        "id": "n9Yz6umrCf1Q",
        "outputId": "3c34f010-5680-48b8-c247-e002d94d8849"
      },
      "outputs": [
        {
          "name": "stdout",
          "output_type": "stream",
          "text": [
            "1.Add                    :  + \n",
            "2.Subtract             :  - \n",
            "3.Multiply            :  * \n",
            "4.Divide                :  / \n",
            "5.Power                :  ^ \n",
            "6.Reminder          :  % \n",
            "7.Terminate          :  # \n",
            "8.Reset                 :  $ \n",
            "Enter the choice like(+,-,*,/,^,%,#,$)#\n"
          ]
        }
      ],
      "source": [
        "c=None\n",
        "a=None\n",
        "b=None\n",
        "\n",
        "def go_cal() :\n",
        "  exit()\n",
        "\n",
        "def  select_op( choice_two):\n",
        "  while(choice_two != '#' ):\n",
        "    if(choice_two == \"%\"):\n",
        "      if(c == None):\n",
        "        print(\"not reminder value\")\n",
        "      else:\n",
        "        print(\"Last Result \",c)\n",
        "    elif(choice_two == \"$\"):\n",
        "      if(a != None or b!= None):\n",
        "        a=int(0)\n",
        "        b=int(0)\n",
        "    a =int(input(\"Enter first No : \"))\n",
        "    b =int(input(\"Enter first No : \"))\n",
        "    if(choice_two == \"+\"):\n",
        "      c=int(a+b)\n",
        "      print(\"Rsult\", c)\n",
        "    elif(choice_two == \"-\"):\n",
        "      c=int(a-b)\n",
        "      print(\"Result\", c)\n",
        "    elif(choice_two == \"*\"):\n",
        "      c=int(a**b)\n",
        "      print(\"Result\", c)\n",
        "    elif(choice_two == \"/\"):\n",
        "      c=int(a/b)\n",
        "      print(\"Result\", c)\n",
        "\n",
        "    print(\"1.Add                    :  + \")\n",
        "    print(\"2.Subtract             :  - \")\n",
        "    print(\"3.Multiply            :  * \")\n",
        "    print(\"4.Divide                :  / \")\n",
        "    print(\"5.Power                :  ^ \")\n",
        "    print(\"6.Reminder          :  % \")\n",
        "    print(\"7.Terminate          :  # \")\n",
        "    print(\"8.Reset                 :  $ \")\n",
        "\n",
        "    choice_two = input(\"Enter the choice like(+,-,*,/,^,%,#,$)\")\n",
        "\n",
        "  if(choice_two == \"#\") :\n",
        "    go_cal()\n",
        "  else:\n",
        "    print(\"Inavlid input\")\n",
        "    main()\n",
        "\n",
        "\n",
        "def main():\n",
        "  print(\"1.Add                    :  + \")\n",
        "  print(\"2.Subtract             :  - \")\n",
        "  print(\"3.Multiply            :  * \")\n",
        "  print(\"4.Divide                :  / \")\n",
        "  print(\"5.Power                :  ^ \")\n",
        "  print(\"6.Reminder          :  % \")\n",
        "  print(\"7.Terminate          :  # \")\n",
        "  print(\"8.Reset                 :  $ \")\n",
        "\n",
        "  choice = input(\"Enter the choice like(+,-,*,/,^,%,#,$)\")\n",
        "\n",
        "  select_op(choice)\n",
        "\n",
        "main()\n",
        "\n",
        "\n",
        "\n",
        "\n"
      ]
    }
  ]
}